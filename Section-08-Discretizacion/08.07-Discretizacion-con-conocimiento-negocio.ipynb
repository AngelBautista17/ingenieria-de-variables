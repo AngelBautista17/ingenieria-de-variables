{
 "cells": [
  {
   "cell_type": "markdown",
   "metadata": {},
   "source": [
    "# Discretización basada en conocimiento del área\n",
    "\n",
    "Frecuentemente, cuando se hace ingeniería de variables en un contexto de negocio, los expertos en el área determinan los intervalos en los cuales ellos creen que la variable debería ser dividida. Esto es para que dichos intervalos tengan sentido en el contexto del negocio. Los ejemplos típicos son la discretización de variables como edad e ingresos. \n",
    "\n",
    "Ingresos por ejemplo, son usualmente limitados a un cierto valor máximo, y todos los salarios por envima de ese valor se asignan al último intervalo. La variable age está usualmente dividida en ciertos grupos de acuerdo a la necesidad del negocio, por ejemplo una división en el intervalo 0-18 (para menores de edad), 18-30 (para adultos jóvenes), 30-40, 40-60, y > 60 (para los pensionados o cerca a pensionarse) son frecuentes.\n",
    "\n",
    "\n",
    "Aprenderás como discretizar utilizando intervalos predefinidos con los datos del Titanic y los de prestamos financieros.\n",
    "\n",
    "### Titanic dataset"
   ]
  },
  {
   "cell_type": "code",
   "execution_count": 1,
   "metadata": {},
   "outputs": [],
   "source": [
    "import pandas as pd\n",
    "import numpy as np\n",
    "\n",
    "import matplotlib.pyplot as plt"
   ]
  },
  {
   "cell_type": "code",
   "execution_count": 2,
   "metadata": {},
   "outputs": [
    {
     "data": {
      "text/html": [
       "<div>\n",
       "<style scoped>\n",
       "    .dataframe tbody tr th:only-of-type {\n",
       "        vertical-align: middle;\n",
       "    }\n",
       "\n",
       "    .dataframe tbody tr th {\n",
       "        vertical-align: top;\n",
       "    }\n",
       "\n",
       "    .dataframe thead th {\n",
       "        text-align: right;\n",
       "    }\n",
       "</style>\n",
       "<table border=\"1\" class=\"dataframe\">\n",
       "  <thead>\n",
       "    <tr style=\"text-align: right;\">\n",
       "      <th></th>\n",
       "      <th>survived</th>\n",
       "      <th>age</th>\n",
       "    </tr>\n",
       "  </thead>\n",
       "  <tbody>\n",
       "    <tr>\n",
       "      <th>0</th>\n",
       "      <td>1</td>\n",
       "      <td>29.0000</td>\n",
       "    </tr>\n",
       "    <tr>\n",
       "      <th>1</th>\n",
       "      <td>1</td>\n",
       "      <td>0.9167</td>\n",
       "    </tr>\n",
       "    <tr>\n",
       "      <th>2</th>\n",
       "      <td>0</td>\n",
       "      <td>2.0000</td>\n",
       "    </tr>\n",
       "    <tr>\n",
       "      <th>3</th>\n",
       "      <td>0</td>\n",
       "      <td>30.0000</td>\n",
       "    </tr>\n",
       "    <tr>\n",
       "      <th>4</th>\n",
       "      <td>0</td>\n",
       "      <td>25.0000</td>\n",
       "    </tr>\n",
       "  </tbody>\n",
       "</table>\n",
       "</div>"
      ],
      "text/plain": [
       "   survived      age\n",
       "0         1  29.0000\n",
       "1         1   0.9167\n",
       "2         0   2.0000\n",
       "3         0  30.0000\n",
       "4         0  25.0000"
      ]
     },
     "execution_count": 2,
     "metadata": {},
     "output_type": "execute_result"
    }
   ],
   "source": [
    "# cargar variables numéricas Titanic Dataset\n",
    "\n",
    "data = pd.read_csv('../titanic.csv',\n",
    "                   usecols=['age', 'survived'])\n",
    "\n",
    "data.head()"
   ]
  },
  {
   "cell_type": "markdown",
   "metadata": {},
   "source": [
    "Las variables age contienen datos faltantes. Los vamos a completar extrayendo una muestra aleatoria de la variable."
   ]
  },
  {
   "cell_type": "code",
   "execution_count": 3,
   "metadata": {},
   "outputs": [],
   "source": [
    "def impute_na(data, variable):\n",
    "    \n",
    "    # función para reemplazar NA con una muestra aleatoria\n",
    "\n",
    "    df = data.copy()\n",
    "\n",
    "    # muestra aleatoria\n",
    "    df[variable+'_aleatoria'] = df[variable]\n",
    "\n",
    "     # extraer muestra aleatoria para completar datos faltantes na\n",
    "    random_sample = data[variable].dropna().sample(\n",
    "        df[variable].isnull().sum(), random_state=0)\n",
    "\n",
    "    # pandas necesita tener el mismo index para poder \n",
    "    # combinar los dataframes\n",
    "    random_sample.index = df[df[variable].isnull()].index\n",
    "    df.loc[df[variable].isnull(), variable+'_aleatoria'] = random_sample\n",
    "\n",
    "    return df[variable+'_aleatoria']"
   ]
  },
  {
   "cell_type": "code",
   "execution_count": 4,
   "metadata": {},
   "outputs": [],
   "source": [
    "# reemplazar los NA \n",
    "data['age'] = impute_na(data, 'age')"
   ]
  },
  {
   "cell_type": "code",
   "execution_count": 5,
   "metadata": {},
   "outputs": [
    {
     "data": {
      "text/html": [
       "<div>\n",
       "<style scoped>\n",
       "    .dataframe tbody tr th:only-of-type {\n",
       "        vertical-align: middle;\n",
       "    }\n",
       "\n",
       "    .dataframe tbody tr th {\n",
       "        vertical-align: top;\n",
       "    }\n",
       "\n",
       "    .dataframe thead th {\n",
       "        text-align: right;\n",
       "    }\n",
       "</style>\n",
       "<table border=\"1\" class=\"dataframe\">\n",
       "  <thead>\n",
       "    <tr style=\"text-align: right;\">\n",
       "      <th></th>\n",
       "      <th>survived</th>\n",
       "      <th>age</th>\n",
       "      <th>etiquetas_intervalos_age</th>\n",
       "      <th>intervalos_age</th>\n",
       "    </tr>\n",
       "  </thead>\n",
       "  <tbody>\n",
       "    <tr>\n",
       "      <th>0</th>\n",
       "      <td>1</td>\n",
       "      <td>29.0000</td>\n",
       "      <td>20-40</td>\n",
       "      <td>(20.0, 40.0]</td>\n",
       "    </tr>\n",
       "    <tr>\n",
       "      <th>1</th>\n",
       "      <td>1</td>\n",
       "      <td>0.9167</td>\n",
       "      <td>0-20</td>\n",
       "      <td>(-0.001, 20.0]</td>\n",
       "    </tr>\n",
       "    <tr>\n",
       "      <th>2</th>\n",
       "      <td>0</td>\n",
       "      <td>2.0000</td>\n",
       "      <td>0-20</td>\n",
       "      <td>(-0.001, 20.0]</td>\n",
       "    </tr>\n",
       "    <tr>\n",
       "      <th>3</th>\n",
       "      <td>0</td>\n",
       "      <td>30.0000</td>\n",
       "      <td>20-40</td>\n",
       "      <td>(20.0, 40.0]</td>\n",
       "    </tr>\n",
       "    <tr>\n",
       "      <th>4</th>\n",
       "      <td>0</td>\n",
       "      <td>25.0000</td>\n",
       "      <td>20-40</td>\n",
       "      <td>(20.0, 40.0]</td>\n",
       "    </tr>\n",
       "  </tbody>\n",
       "</table>\n",
       "</div>"
      ],
      "text/plain": [
       "   survived      age etiquetas_intervalos_age  intervalos_age\n",
       "0         1  29.0000                    20-40    (20.0, 40.0]\n",
       "1         1   0.9167                     0-20  (-0.001, 20.0]\n",
       "2         0   2.0000                     0-20  (-0.001, 20.0]\n",
       "3         0  30.0000                    20-40    (20.0, 40.0]\n",
       "4         0  25.0000                    20-40    (20.0, 40.0]"
      ]
     },
     "execution_count": 5,
     "metadata": {},
     "output_type": "execute_result"
    }
   ],
   "source": [
    "# dividamos la variable age en los intervalos que son descritos\n",
    "# en la celda introductoria del notebook\n",
    "\n",
    "# límites del intervalo\n",
    "buckets = [0, 20, 40, 60, 1000]\n",
    "\n",
    "# etiquetas intervalo\n",
    "labels = ['0-20', '20-40', '40-60', '>60']\n",
    "\n",
    "# discretización\n",
    "data['etiquetas_intervalos_age'] = pd.cut(\n",
    "    data['age'], bins=buckets, labels=labels, include_lowest=True)\n",
    "\n",
    "data['intervalos_age'] = pd.cut(data['age'], bins=buckets, include_lowest=True)\n",
    "\n",
    "data.head()"
   ]
  },
  {
   "cell_type": "code",
   "execution_count": 6,
   "metadata": {},
   "outputs": [
    {
     "data": {
      "text/html": [
       "<div>\n",
       "<style scoped>\n",
       "    .dataframe tbody tr th:only-of-type {\n",
       "        vertical-align: middle;\n",
       "    }\n",
       "\n",
       "    .dataframe tbody tr th {\n",
       "        vertical-align: top;\n",
       "    }\n",
       "\n",
       "    .dataframe thead th {\n",
       "        text-align: right;\n",
       "    }\n",
       "</style>\n",
       "<table border=\"1\" class=\"dataframe\">\n",
       "  <thead>\n",
       "    <tr style=\"text-align: right;\">\n",
       "      <th></th>\n",
       "      <th>survived</th>\n",
       "      <th>age</th>\n",
       "      <th>etiquetas_intervalos_age</th>\n",
       "      <th>intervalos_age</th>\n",
       "    </tr>\n",
       "  </thead>\n",
       "  <tbody>\n",
       "    <tr>\n",
       "      <th>1304</th>\n",
       "      <td>0</td>\n",
       "      <td>14.5</td>\n",
       "      <td>0-20</td>\n",
       "      <td>(-0.001, 20.0]</td>\n",
       "    </tr>\n",
       "    <tr>\n",
       "      <th>1305</th>\n",
       "      <td>0</td>\n",
       "      <td>39.0</td>\n",
       "      <td>20-40</td>\n",
       "      <td>(20.0, 40.0]</td>\n",
       "    </tr>\n",
       "    <tr>\n",
       "      <th>1306</th>\n",
       "      <td>0</td>\n",
       "      <td>26.5</td>\n",
       "      <td>20-40</td>\n",
       "      <td>(20.0, 40.0]</td>\n",
       "    </tr>\n",
       "    <tr>\n",
       "      <th>1307</th>\n",
       "      <td>0</td>\n",
       "      <td>27.0</td>\n",
       "      <td>20-40</td>\n",
       "      <td>(20.0, 40.0]</td>\n",
       "    </tr>\n",
       "    <tr>\n",
       "      <th>1308</th>\n",
       "      <td>0</td>\n",
       "      <td>29.0</td>\n",
       "      <td>20-40</td>\n",
       "      <td>(20.0, 40.0]</td>\n",
       "    </tr>\n",
       "  </tbody>\n",
       "</table>\n",
       "</div>"
      ],
      "text/plain": [
       "      survived   age etiquetas_intervalos_age  intervalos_age\n",
       "1304         0  14.5                     0-20  (-0.001, 20.0]\n",
       "1305         0  39.0                    20-40    (20.0, 40.0]\n",
       "1306         0  26.5                    20-40    (20.0, 40.0]\n",
       "1307         0  27.0                    20-40    (20.0, 40.0]\n",
       "1308         0  29.0                    20-40    (20.0, 40.0]"
      ]
     },
     "execution_count": 6,
     "metadata": {},
     "output_type": "execute_result"
    }
   ],
   "source": [
    "data.tail()"
   ]
  },
  {
   "cell_type": "markdown",
   "metadata": {},
   "source": [
    "Podemos ver los intervalos en los cuales cada observación de la variable age fueron colocados. Por ejemplo, el valor 14 fue colocado en el intervalo 0-20.\n",
    "\n",
    "Exploremos el número de observaciones y la tasa de supervivencia por intervalo después de este método arbitrario de discretización."
   ]
  },
  {
   "cell_type": "code",
   "execution_count": 7,
   "metadata": {},
   "outputs": [
    {
     "data": {
      "text/plain": [
       "<matplotlib.axes._subplots.AxesSubplot at 0xb7feb5db50>"
      ]
     },
     "execution_count": 7,
     "metadata": {},
     "output_type": "execute_result"
    },
    {
     "data": {
      "image/png": "[encoded data removed]",
      "text/plain": [
       "<Figure size 432x288 with 1 Axes>"
      ]
     },
     "metadata": {
      "needs_background": "light"
     },
     "output_type": "display_data"
    }
   ],
   "source": [
    "# Número de pasajeros por grupo de edad - age\n",
    "\n",
    "data.groupby('etiquetas_intervalos_age')['age'].count().plot.bar()"
   ]
  },
  {
   "cell_type": "code",
   "execution_count": 8,
   "metadata": {},
   "outputs": [
    {
     "data": {
      "text/plain": [
       "<matplotlib.axes._subplots.AxesSubplot at 0xb7fec23fd0>"
      ]
     },
     "execution_count": 8,
     "metadata": {},
     "output_type": "execute_result"
    },
    {
     "data": {
      "image/png": "[encoded data removed]",
      "text/plain": [
       "<Figure size 432x288 with 1 Axes>"
      ]
     },
     "metadata": {
      "needs_background": "light"
     },
     "output_type": "display_data"
    }
   ],
   "source": [
    "# tasa de supervivencia por intervalo \n",
    "\n",
    "data.groupby('etiquetas_intervalos_age')['survived'].mean().plot.bar()"
   ]
  },
  {
   "cell_type": "markdown",
   "metadata": {},
   "source": [
    "### Peer to peer\n",
    "\n",
    "Exploremos discretizar utlizando conocimiento del área de negocio para un escenario diferente. Usaremos el libro de préstamos de la compañía de préstamos peer to peer. Estos datos tiene información de préstamos otorgados a personas, y las caracterísicas financeras de aquellas personas así como el desempeño del préstamo."
   ]
  },
  {
   "cell_type": "code",
   "execution_count": 9,
   "metadata": {
    "scrolled": true
   },
   "outputs": [
    {
     "data": {
      "text/html": [
       "<div>\n",
       "<style scoped>\n",
       "    .dataframe tbody tr th:only-of-type {\n",
       "        vertical-align: middle;\n",
       "    }\n",
       "\n",
       "    .dataframe tbody tr th {\n",
       "        vertical-align: top;\n",
       "    }\n",
       "\n",
       "    .dataframe thead th {\n",
       "        text-align: right;\n",
       "    }\n",
       "</style>\n",
       "<table border=\"1\" class=\"dataframe\">\n",
       "  <thead>\n",
       "    <tr style=\"text-align: right;\">\n",
       "      <th></th>\n",
       "      <th>income</th>\n",
       "    </tr>\n",
       "  </thead>\n",
       "  <tbody>\n",
       "    <tr>\n",
       "      <th>0</th>\n",
       "      <td>84600.0</td>\n",
       "    </tr>\n",
       "    <tr>\n",
       "      <th>1</th>\n",
       "      <td>102000.0</td>\n",
       "    </tr>\n",
       "    <tr>\n",
       "      <th>2</th>\n",
       "      <td>69840.0</td>\n",
       "    </tr>\n",
       "    <tr>\n",
       "      <th>3</th>\n",
       "      <td>100386.0</td>\n",
       "    </tr>\n",
       "    <tr>\n",
       "      <th>4</th>\n",
       "      <td>95040.0</td>\n",
       "    </tr>\n",
       "  </tbody>\n",
       "</table>\n",
       "</div>"
      ],
      "text/plain": [
       "     income\n",
       "0   84600.0\n",
       "1  102000.0\n",
       "2   69840.0\n",
       "3  100386.0\n",
       "4   95040.0"
      ]
     },
     "execution_count": 9,
     "metadata": {},
     "output_type": "execute_result"
    }
   ],
   "source": [
    "# Carguemos los datos de income (ingresos) declarados por el prestamista\n",
    "\n",
    "data = pd.read_csv('../loan.csv', usecols=['income'])\n",
    "\n",
    "data.head()"
   ]
  },
  {
   "cell_type": "code",
   "execution_count": 10,
   "metadata": {},
   "outputs": [
    {
     "data": {
      "text/plain": [
       "count    1.000000e+04\n",
       "mean     7.157229e+04\n",
       "std      5.286105e+04\n",
       "min      0.000000e+00\n",
       "25%      4.365000e+04\n",
       "50%      6.045000e+04\n",
       "75%      8.536000e+04\n",
       "max      2.185000e+06\n",
       "Name: income, dtype: float64"
      ]
     },
     "execution_count": 10,
     "metadata": {},
     "output_type": "execute_result"
    }
   ],
   "source": [
    "data['income'].describe()"
   ]
  },
  {
   "cell_type": "code",
   "execution_count": 11,
   "metadata": {},
   "outputs": [
    {
     "data": {
      "text/plain": [
       "<matplotlib.axes._subplots.AxesSubplot at 0xb7fecb1c40>"
      ]
     },
     "execution_count": 11,
     "metadata": {},
     "output_type": "execute_result"
    },
    {
     "data": {
      "image/png": "[encoded data removed]",
      "text/plain": [
       "<Figure size 432x288 with 1 Axes>"
      ]
     },
     "metadata": {
      "needs_background": "light"
     },
     "output_type": "display_data"
    }
   ],
   "source": [
    "# exploremos la distribución de ingresos (income)\n",
    "\n",
    "data['income'].hist(bins=100)"
   ]
  },
  {
   "cell_type": "code",
   "execution_count": 12,
   "metadata": {
    "scrolled": false
   },
   "outputs": [
    {
     "data": {
      "text/plain": [
       "<matplotlib.axes._subplots.AxesSubplot at 0xb7fee0abe0>"
      ]
     },
     "execution_count": 12,
     "metadata": {},
     "output_type": "execute_result"
    },
    {
     "data": {
      "image/png": "[encoded data removed]",
      "text/plain": [
       "<Figure size 432x288 with 1 Axes>"
      ]
     },
     "metadata": {
      "needs_background": "light"
     },
     "output_type": "display_data"
    }
   ],
   "source": [
    "# miremos los bajos ingresos en más detalle\n",
    "\n",
    "data[data['income']<500000]['income'].hist(bins=100)"
   ]
  },
  {
   "cell_type": "markdown",
   "metadata": {},
   "source": [
    "Podemos ver que la mayoría de la población gana por debajo de 150,000. Por lo tanto sería bueno capturar esta información"
   ]
  },
  {
   "cell_type": "code",
   "execution_count": 13,
   "metadata": {},
   "outputs": [
    {
     "data": {
      "text/html": [
       "<div>\n",
       "<style scoped>\n",
       "    .dataframe tbody tr th:only-of-type {\n",
       "        vertical-align: middle;\n",
       "    }\n",
       "\n",
       "    .dataframe tbody tr th {\n",
       "        vertical-align: top;\n",
       "    }\n",
       "\n",
       "    .dataframe thead th {\n",
       "        text-align: right;\n",
       "    }\n",
       "</style>\n",
       "<table border=\"1\" class=\"dataframe\">\n",
       "  <thead>\n",
       "    <tr style=\"text-align: right;\">\n",
       "      <th></th>\n",
       "      <th>income</th>\n",
       "      <th>intervalos_income</th>\n",
       "    </tr>\n",
       "  </thead>\n",
       "  <tbody>\n",
       "    <tr>\n",
       "      <th>0</th>\n",
       "      <td>84600.0</td>\n",
       "      <td>65-90k</td>\n",
       "    </tr>\n",
       "    <tr>\n",
       "      <th>1</th>\n",
       "      <td>102000.0</td>\n",
       "      <td>90-150k</td>\n",
       "    </tr>\n",
       "    <tr>\n",
       "      <th>2</th>\n",
       "      <td>69840.0</td>\n",
       "      <td>65-90k</td>\n",
       "    </tr>\n",
       "    <tr>\n",
       "      <th>3</th>\n",
       "      <td>100386.0</td>\n",
       "      <td>90-150k</td>\n",
       "    </tr>\n",
       "    <tr>\n",
       "      <th>4</th>\n",
       "      <td>95040.0</td>\n",
       "      <td>90-150k</td>\n",
       "    </tr>\n",
       "  </tbody>\n",
       "</table>\n",
       "</div>"
      ],
      "text/plain": [
       "     income intervalos_income\n",
       "0   84600.0            65-90k\n",
       "1  102000.0           90-150k\n",
       "2   69840.0            65-90k\n",
       "3  100386.0           90-150k\n",
       "4   95040.0           90-150k"
      ]
     },
     "execution_count": 13,
     "metadata": {},
     "output_type": "execute_result"
    }
   ],
   "source": [
    "# dividamos en intervalos arbitrarios, asumiendo que estos tiene sentido en \n",
    "# el contexto de negocio\n",
    "\n",
    "# intervalo\n",
    "buckets = [0, 45000, 65000, 90000, 150000, 1e10]\n",
    "\n",
    "# etiquetas intervalo\n",
    "labels = ['0-45k', '45-65k', '65-90k', '90-150k', '>150k']\n",
    "\n",
    "# discretización\n",
    "data['intervalos_income'] = pd.cut(\n",
    "    data['income'], bins=buckets, labels=labels, include_lowest=True)\n",
    "\n",
    "data.head()"
   ]
  },
  {
   "cell_type": "code",
   "execution_count": 14,
   "metadata": {},
   "outputs": [
    {
     "data": {
      "text/html": [
       "<div>\n",
       "<style scoped>\n",
       "    .dataframe tbody tr th:only-of-type {\n",
       "        vertical-align: middle;\n",
       "    }\n",
       "\n",
       "    .dataframe tbody tr th {\n",
       "        vertical-align: top;\n",
       "    }\n",
       "\n",
       "    .dataframe thead th {\n",
       "        text-align: right;\n",
       "    }\n",
       "</style>\n",
       "<table border=\"1\" class=\"dataframe\">\n",
       "  <thead>\n",
       "    <tr style=\"text-align: right;\">\n",
       "      <th></th>\n",
       "      <th>income</th>\n",
       "      <th>intervalos_income</th>\n",
       "    </tr>\n",
       "  </thead>\n",
       "  <tbody>\n",
       "    <tr>\n",
       "      <th>9995</th>\n",
       "      <td>98000.0</td>\n",
       "      <td>90-150k</td>\n",
       "    </tr>\n",
       "    <tr>\n",
       "      <th>9996</th>\n",
       "      <td>36270.0</td>\n",
       "      <td>0-45k</td>\n",
       "    </tr>\n",
       "    <tr>\n",
       "      <th>9997</th>\n",
       "      <td>52250.0</td>\n",
       "      <td>45-65k</td>\n",
       "    </tr>\n",
       "    <tr>\n",
       "      <th>9998</th>\n",
       "      <td>80040.0</td>\n",
       "      <td>65-90k</td>\n",
       "    </tr>\n",
       "    <tr>\n",
       "      <th>9999</th>\n",
       "      <td>72000.0</td>\n",
       "      <td>65-90k</td>\n",
       "    </tr>\n",
       "  </tbody>\n",
       "</table>\n",
       "</div>"
      ],
      "text/plain": [
       "       income intervalos_income\n",
       "9995  98000.0           90-150k\n",
       "9996  36270.0             0-45k\n",
       "9997  52250.0            45-65k\n",
       "9998  80040.0            65-90k\n",
       "9999  72000.0            65-90k"
      ]
     },
     "execution_count": 14,
     "metadata": {},
     "output_type": "execute_result"
    }
   ],
   "source": [
    "data.tail()"
   ]
  },
  {
   "cell_type": "code",
   "execution_count": 15,
   "metadata": {},
   "outputs": [
    {
     "data": {
      "text/plain": [
       "(array([0, 1, 2, 3, 4]), <a list of 5 Text major ticklabel objects>)"
      ]
     },
     "execution_count": 15,
     "metadata": {},
     "output_type": "execute_result"
    },
    {
     "data": {
      "image/png": "[encoded data removed]",
      "text/plain": [
       "<Figure size 432x288 with 1 Axes>"
      ]
     },
     "metadata": {
      "needs_background": "light"
     },
     "output_type": "display_data"
    }
   ],
   "source": [
    "data.groupby(['intervalos_income'])['income'].count().plot.bar()\n",
    "plt.xticks(rotation=45)"
   ]
  },
  {
   "cell_type": "code",
   "execution_count": 16,
   "metadata": {},
   "outputs": [
    {
     "data": {
      "text/plain": [
       "(array([0, 1, 2, 3, 4]), <a list of 5 Text major ticklabel objects>)"
      ]
     },
     "execution_count": 16,
     "metadata": {},
     "output_type": "execute_result"
    },
    {
     "data": {
      "image/png": "[encoded data removed]",
      "text/plain": [
       "<Figure size 432x288 with 1 Axes>"
      ]
     },
     "metadata": {
      "needs_background": "light"
     },
     "output_type": "display_data"
    }
   ],
   "source": [
    "(data.groupby(['intervalos_income'])['income'].count()/len(data)).plot.bar()\n",
    "plt.xticks(rotation=45)"
   ]
  },
  {
   "cell_type": "markdown",
   "metadata": {
    "collapsed": true
   },
   "source": [
    "Hemos capturado aproximadamente el mismo número de prestamistas en cada uno de los tres primeros intervalos, y vemos claramente, que un porcentaje pequeño de préstamos fueron otorgados a personas de altos ingresos.\n",
    "\n",
    "**Es todo por esta demostración. Esperamos la hayan disfrutado, nos vemos en la siguiente.**"
   ]
  },
  {
   "cell_type": "code",
   "execution_count": null,
   "metadata": {},
   "outputs": [],
   "source": []
  }
 ],
 "metadata": {
  "kernelspec": {
   "display_name": "feml",
   "language": "python",
   "name": "feml"
  },
  "language_info": {
   "codemirror_mode": {
    "name": "ipython",
    "version": 3
   },
   "file_extension": ".py",
   "mimetype": "text/x-python",
   "name": "python",
   "nbconvert_exporter": "python",
   "pygments_lexer": "ipython3",
   "version": "3.8.2"
  },
  "toc": {
   "base_numbering": 1,
   "nav_menu": {},
   "number_sections": true,
   "sideBar": true,
   "skip_h1_title": false,
   "title_cell": "Table of Contents",
   "title_sidebar": "Contents",
   "toc_cell": false,
   "toc_position": {},
   "toc_section_display": "block",
   "toc_window_display": true
  }
 },
 "nbformat": 4,
 "nbformat_minor": 2
}
