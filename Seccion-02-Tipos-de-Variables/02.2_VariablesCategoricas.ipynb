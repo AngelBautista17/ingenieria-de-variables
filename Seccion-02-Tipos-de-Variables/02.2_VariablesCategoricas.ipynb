{
 "cells": [
  {
   "cell_type": "markdown",
   "metadata": {},
   "source": [
    "## Qué es una variable?\n",
    "\n",
    "Una variable es una característica, número o cantidad que puede ser medida o contada. Son llamadas 'variables' porque el valor que toman puede variar. Los siguientes son ejemplos de variables:\n",
    "\n",
    "- Edad (21, 35, 62, ...)\n",
    "- Género (masculino, femenino)\n",
    "- Salario (GBP 20,000, GBP 35,000, GBP 45,000, ...)\n",
    "- Precio inmueble (GBP 350,000, GBP 570,000, ...)\n",
    "- País de nacimiento (China, Rusia, Costa Rica, ...)\n",
    "- Color ojos (negro, verde, azul, ...)\n",
    "- Marca de Vehículo (Ford, Volkswagen, ...)\n",
    "\n",
    "La mayoría de las variables pueden ser clasificadas en uno de los siguientes grupos:\n",
    "\n",
    "- **Variables Numéricas** \n",
    "- **Variables Categóricas**\n",
    "\n",
    "===================================================================================\n",
    "\n",
    "\n",
    "## Variables Categóricas\n",
    "\n",
    "Los valores de una variable categórica se seleccionan de un grupo de categorías distintas, también conocidas como etiquetas. Las variables categóricas pueden ser variables de cadena (cadenas de caracteres), por ejemplo estado civil (soltero, casado, divorciado o viudo) o variables numéricas que utilizan códigos numéricos para representar categorías (por ejemplo género, 0 = masculino y 1 = femenino).\n",
    "\n",
    "Otros ejemplos incluyen: \n",
    " \n",
    "- Propósito del préstamo (consolidación de deuda, compra vehículo, costos de boda, ...)\n",
    "- Proveedor de red celular (Vodafone, Orange, ...)\n",
    "- Código Postal \n",
    "\n",
    "Las variables categóricas pueden ser:\n",
    "\n",
    "- **Variables Ordinales**\n",
    "- **Variables Nominales**\n",
    "\n",
    "### Variables Ordinales\n",
    "\n",
    "Variables ordinales son variables categóricas cuyas categorías tienen alguna clasificación intrínseca o toman una escala establecida.  Por ejemplo: \n",
    "\n",
    "- Calificación en una evaluación estudiantil (A, B, C o D).\n",
    "- Días de la semana, Lunes = 1 y Domingo = 7.\n",
    "- Nivel de educación, con las categorías: Primaria, Secundaria, Pregrado, Maestría y Doctorado con rangos desde 1 a 5\n",
    "\n",
    "\n",
    "### Variables Nominales\n",
    "\n",
    "En una variable nominal, las categorías no obedecen a una clasificación intrínseca o un orden lógico. Por ejemplo, la variable “país de nacimiento”, con valores como Colombia, Argentina, Inglaterra, Alemania, etc., es nominal. Otros ejemplos de variables nominales incluyen:\n",
    "\n",
    "- Color del vehículo (negro, azul, verde, ...)\n",
    "- Marca del Vehículo (Citroen, Peugeot, ...)\n",
    "- Ciudad (Manchester, London, Chester, ...)\n",
    "\n",
    "En estas variables, no hay nada que indique un orden intrínseco en las categorías, y en principio, todas son iguales.\n",
    "\n",
    "**Para considerar:**\n",
    "\n",
    "Algunas variables categóricas están codificadas como números cuando los datos son generados y guardados (ej. género puede codificado como 0 para masculino y 1 para femenino). La variable sigue siendo categórica, a pesar de que los valores sean numéricos.\n",
    "\n",
    "Igualmente, personas que responden una encuesta pueden ser codificados con un número que los identifica de forma única (por ejemplo para evitar guardar información personal por cuestiones de confidencialidad). Este número es realmente una categoría, y la variable por lo tanto categórica. El número no tiene ningún significado, aparte de hacer posible la identificación única de la observación (en este caso, la persona encuestada).\n",
    "\n",
    "Cuando trabajamos con un conjunto de datos en un escenario de negocios, los datos suelen estar acompañados de un “diccionario” que indica si los números en una variable deben ser considerados como categorías o como valores numéricos. Y si los números representan categorías, el diccionario explicaría que representa cada uno de los valores en la variable. \n",
    "\n",
    "=============================================================================\n",
    "\n",
    "## En este demo: Préstamos Peer-to-peer (P2P)\n",
    "\n",
    "En este demo, usaremos los datos de una compañía financiera ficticia especializada en préstamos peer-to-peer para examinar variables categóricas nominales.\n",
    "\n",
    "- Para descargar los datos, por favor referirse a la sección de **Datos** de la **Sección 1** del curso.\n"
   ]
  },
  {
   "cell_type": "code",
   "execution_count": 1,
   "metadata": {},
   "outputs": [],
   "source": [
    "import pandas as pd\n",
    "\n",
    "import matplotlib.pyplot as plt"
   ]
  },
  {
   "cell_type": "code",
   "execution_count": 2,
   "metadata": {},
   "outputs": [
    {
     "data": {
      "text/html": [
       "<div>\n",
       "<style scoped>\n",
       "    .dataframe tbody tr th:only-of-type {\n",
       "        vertical-align: middle;\n",
       "    }\n",
       "\n",
       "    .dataframe tbody tr th {\n",
       "        vertical-align: top;\n",
       "    }\n",
       "\n",
       "    .dataframe thead th {\n",
       "        text-align: right;\n",
       "    }\n",
       "</style>\n",
       "<table border=\"1\" class=\"dataframe\">\n",
       "  <thead>\n",
       "    <tr style=\"text-align: right;\">\n",
       "      <th></th>\n",
       "      <th>customer_id</th>\n",
       "      <th>disbursed_amount</th>\n",
       "      <th>interest</th>\n",
       "      <th>market</th>\n",
       "      <th>employment</th>\n",
       "      <th>time_employed</th>\n",
       "      <th>householder</th>\n",
       "      <th>income</th>\n",
       "      <th>date_issued</th>\n",
       "      <th>target</th>\n",
       "      <th>loan_purpose</th>\n",
       "      <th>number_open_accounts</th>\n",
       "      <th>date_last_payment</th>\n",
       "      <th>number_credit_lines_12</th>\n",
       "    </tr>\n",
       "  </thead>\n",
       "  <tbody>\n",
       "    <tr>\n",
       "      <th>0</th>\n",
       "      <td>0</td>\n",
       "      <td>23201.5</td>\n",
       "      <td>15.4840</td>\n",
       "      <td>C</td>\n",
       "      <td>Teacher</td>\n",
       "      <td>&lt;=5 years</td>\n",
       "      <td>RENT</td>\n",
       "      <td>84600.0</td>\n",
       "      <td>2013-06-11</td>\n",
       "      <td>0</td>\n",
       "      <td>Debt consolidation</td>\n",
       "      <td>4.0</td>\n",
       "      <td>2016-01-14</td>\n",
       "      <td>NaN</td>\n",
       "    </tr>\n",
       "    <tr>\n",
       "      <th>1</th>\n",
       "      <td>1</td>\n",
       "      <td>7425.0</td>\n",
       "      <td>11.2032</td>\n",
       "      <td>B</td>\n",
       "      <td>Accountant</td>\n",
       "      <td>&lt;=5 years</td>\n",
       "      <td>OWNER</td>\n",
       "      <td>102000.0</td>\n",
       "      <td>2014-05-08</td>\n",
       "      <td>0</td>\n",
       "      <td>Car purchase</td>\n",
       "      <td>13.0</td>\n",
       "      <td>2016-01-25</td>\n",
       "      <td>NaN</td>\n",
       "    </tr>\n",
       "    <tr>\n",
       "      <th>2</th>\n",
       "      <td>2</td>\n",
       "      <td>11150.0</td>\n",
       "      <td>8.5100</td>\n",
       "      <td>A</td>\n",
       "      <td>Statistician</td>\n",
       "      <td>&lt;=5 years</td>\n",
       "      <td>RENT</td>\n",
       "      <td>69840.0</td>\n",
       "      <td>2013-10-26</td>\n",
       "      <td>0</td>\n",
       "      <td>Debt consolidation</td>\n",
       "      <td>8.0</td>\n",
       "      <td>2014-09-26</td>\n",
       "      <td>NaN</td>\n",
       "    </tr>\n",
       "    <tr>\n",
       "      <th>3</th>\n",
       "      <td>3</td>\n",
       "      <td>7600.0</td>\n",
       "      <td>5.8656</td>\n",
       "      <td>A</td>\n",
       "      <td>Other</td>\n",
       "      <td>&lt;=5 years</td>\n",
       "      <td>RENT</td>\n",
       "      <td>100386.0</td>\n",
       "      <td>2015-08-20</td>\n",
       "      <td>0</td>\n",
       "      <td>Debt consolidation</td>\n",
       "      <td>20.0</td>\n",
       "      <td>2016-01-26</td>\n",
       "      <td>NaN</td>\n",
       "    </tr>\n",
       "    <tr>\n",
       "      <th>4</th>\n",
       "      <td>4</td>\n",
       "      <td>31960.0</td>\n",
       "      <td>18.7392</td>\n",
       "      <td>E</td>\n",
       "      <td>Bus driver</td>\n",
       "      <td>&gt;5 years</td>\n",
       "      <td>RENT</td>\n",
       "      <td>95040.0</td>\n",
       "      <td>2014-07-22</td>\n",
       "      <td>0</td>\n",
       "      <td>Debt consolidation</td>\n",
       "      <td>14.0</td>\n",
       "      <td>2016-01-11</td>\n",
       "      <td>NaN</td>\n",
       "    </tr>\n",
       "  </tbody>\n",
       "</table>\n",
       "</div>"
      ],
      "text/plain": [
       "   customer_id  disbursed_amount  interest market    employment time_employed  \\\n",
       "0            0           23201.5   15.4840      C       Teacher     <=5 years   \n",
       "1            1            7425.0   11.2032      B    Accountant     <=5 years   \n",
       "2            2           11150.0    8.5100      A  Statistician     <=5 years   \n",
       "3            3            7600.0    5.8656      A         Other     <=5 years   \n",
       "4            4           31960.0   18.7392      E    Bus driver      >5 years   \n",
       "\n",
       "  householder    income date_issued  target        loan_purpose  \\\n",
       "0        RENT   84600.0  2013-06-11       0  Debt consolidation   \n",
       "1       OWNER  102000.0  2014-05-08       0        Car purchase   \n",
       "2        RENT   69840.0  2013-10-26       0  Debt consolidation   \n",
       "3        RENT  100386.0  2015-08-20       0  Debt consolidation   \n",
       "4        RENT   95040.0  2014-07-22       0  Debt consolidation   \n",
       "\n",
       "   number_open_accounts date_last_payment  number_credit_lines_12  \n",
       "0                   4.0        2016-01-14                     NaN  \n",
       "1                  13.0        2016-01-25                     NaN  \n",
       "2                   8.0        2014-09-26                     NaN  \n",
       "3                  20.0        2016-01-26                     NaN  \n",
       "4                  14.0        2016-01-11                     NaN  "
      ]
     },
     "execution_count": 2,
     "metadata": {},
     "output_type": "execute_result"
    }
   ],
   "source": [
    "# Definición de las variables:\n",
    "#-------------------------\n",
    "# loan_purpose: propósito/intención de uso del préstamo \n",
    "# householder: si el prestamista es dueño o arrienda la propiedad que habita.\n",
    "# market: el mercado de riesgo asignado al prestatario (basado en su situación financiera)\n",
    "\n",
    "data = pd.read_csv('../loan.csv')\n",
    "\n",
    "data.head()"
   ]
  },
  {
   "cell_type": "code",
   "execution_count": 3,
   "metadata": {},
   "outputs": [
    {
     "data": {
      "text/plain": [
       "array(['RENT', 'OWNER', 'MORTGAGE'], dtype=object)"
      ]
     },
     "execution_count": 3,
     "metadata": {},
     "output_type": "execute_result"
    }
   ],
   "source": [
    "# Examinemos los valores de la variable householder\n",
    "\n",
    "# esta variable indica si el prestamista posee\n",
    "# o arrienda la propiedad que habita\n",
    "\n",
    "data['householder'].unique()"
   ]
  },
  {
   "cell_type": "code",
   "execution_count": 4,
   "metadata": {},
   "outputs": [
    {
     "data": {
      "text/plain": [
       "Text(0, 0.5, 'Número de clientes')"
      ]
     },
     "execution_count": 4,
     "metadata": {},
     "output_type": "execute_result"
    },
    {
     "data": {
      "image/png": "[encoded data removed]",
      "text/plain": [
       "<Figure size 432x288 with 1 Axes>"
      ]
     },
     "metadata": {
      "needs_background": "light"
     },
     "output_type": "display_data"
    }
   ],
   "source": [
    "# Creemos un gráfico de barras, con el número de préstamistas\n",
    "# por cada una de las categorías de householder\n",
    "\n",
    "# El siguiente código cuenta el número de observaciones (prestamistas) \n",
    "# en cada una de las categorías y crea un gráfico de barras.\n",
    "\n",
    "fig = data['householder'].value_counts().plot.bar()\n",
    "fig.set_title('Tipo de propietario')\n",
    "fig.set_ylabel('Número de clientes')"
   ]
  },
  {
   "cell_type": "markdown",
   "metadata": {},
   "source": [
    "La mayoría de los prestamistas son dueños de sus casas pero todavia pagan una hipoteca (MORTGAGE) o arriendan la propiedad en la que viven (RENT). Algunos pocos prestamistas son dueños de su casa completamente (OWN)."
   ]
  },
  {
   "cell_type": "code",
   "execution_count": 5,
   "metadata": {},
   "outputs": [
    {
     "data": {
      "text/plain": [
       "MORTGAGE    4957\n",
       "RENT        4055\n",
       "OWNER        988\n",
       "Name: householder, dtype: int64"
      ]
     },
     "execution_count": 5,
     "metadata": {},
     "output_type": "execute_result"
    }
   ],
   "source": [
    "data['householder'].value_counts()"
   ]
  },
  {
   "cell_type": "code",
   "execution_count": 6,
   "metadata": {},
   "outputs": [
    {
     "data": {
      "text/plain": [
       "array(['Debt consolidation', 'Car purchase', 'Other', 'Home improvements',\n",
       "       'Moving home', 'Health', 'Holidays', 'Wedding'], dtype=object)"
      ]
     },
     "execution_count": 6,
     "metadata": {},
     "output_type": "execute_result"
    }
   ],
   "source": [
    "# La variable \"loan_purpose\" es otra variable categórica\n",
    "# que indica el propósito/intención de uso del préstamo \n",
    "# por ejemplo para hacer arreglos en la casa o consolidar otras deudas.\n",
    "\n",
    "data['loan_purpose'].unique()"
   ]
  },
  {
   "cell_type": "markdown",
   "metadata": {},
   "source": [
    "Exploremos algunos valores:\n",
    "- 'Debt_consolidation': el préstamo se va a usar consolidar otras deudas previamente adquiridas \n",
    "- 'Car purchase': comprar un vehículo\n",
    "- 'Home_improvements': para mejoras/reparaciones en la casa\n",
    "\n",
    "Esto nos da una idea de la intención de uso del préstamo."
   ]
  },
  {
   "cell_type": "code",
   "execution_count": 7,
   "metadata": {},
   "outputs": [
    {
     "data": {
      "text/plain": [
       "Text(0, 0.5, 'Número de clientes')"
      ]
     },
     "execution_count": 7,
     "metadata": {},
     "output_type": "execute_result"
    },
    {
     "data": {
      "image/png": "[encoded data removed]",
      "text/plain": [
       "<Figure size 432x288 with 1 Axes>"
      ]
     },
     "metadata": {
      "needs_background": "light"
     },
     "output_type": "display_data"
    }
   ],
   "source": [
    "# Creemos un gráfico de barras, con el número de préstamistas\n",
    "# por cada una de las categorías\n",
    "\n",
    "# El siguiente código cuenta el número de observaciones (prestamistas) \n",
    "# en cada una de las categorías y crea un gráfico de barras.\n",
    "\n",
    "fig = data['loan_purpose'].value_counts().plot.bar()\n",
    "fig.set_title('Propósito del préstamo')\n",
    "fig.set_ylabel('Número de clientes')"
   ]
  },
  {
   "cell_type": "markdown",
   "metadata": {},
   "source": [
    "La mayoría de los prestamistas tienen la intención de usar el préstamo para consolidar deudas previamente adquiridas 'Debt consolidation' . Esto es bastante común, ya que los prestamistas prefieren consolidar todas sus deudas en una sola, en este caso usando el préstamo que toman de la empresa de peer to peer. El préstamo usualmente les da la facilidad de ya sea tasas de interés más bajas comparadas con las tarjetas de crédito y por ejemplo plazos más largos para pagar."
   ]
  },
  {
   "cell_type": "code",
   "execution_count": 8,
   "metadata": {},
   "outputs": [
    {
     "data": {
      "text/plain": [
       "array(['C', 'B', 'A', 'E', 'D'], dtype=object)"
      ]
     },
     "execution_count": 8,
     "metadata": {},
     "output_type": "execute_result"
    }
   ],
   "source": [
    "# Miremos otra variable categórica, \"market\",\n",
    "# que representa el mercado de riesgo o la banda de riesgo\n",
    "# asignada al prestatario\n",
    "\n",
    "data['market'].unique()"
   ]
  },
  {
   "cell_type": "code",
   "execution_count": 9,
   "metadata": {},
   "outputs": [
    {
     "data": {
      "text/plain": [
       "Text(0, 0.5, 'Número de clientes')"
      ]
     },
     "execution_count": 9,
     "metadata": {},
     "output_type": "execute_result"
    },
    {
     "data": {
      "image/png": "[encoded data removed]",
      "text/plain": [
       "<Figure size 432x288 with 1 Axes>"
      ]
     },
     "metadata": {
      "needs_background": "light"
     },
     "output_type": "display_data"
    }
   ],
   "source": [
    "# Creemos un gráfico de barras, con el número de préstamistas\n",
    "# por cada una de las categorías\n",
    "\n",
    "fig = data['market'].value_counts().plot.bar()\n",
    "fig.set_title('Estado del préstamo')\n",
    "fig.set_ylabel('Número de clientes')"
   ]
  },
  {
   "cell_type": "markdown",
   "metadata": {},
   "source": [
    "La mayoría de los clientes se asignan a los mercados B y C. A son los clientes de menor riesgo, y E los clientes de mayor riesgo. Cuanto más alto es el riesgo, más probable es que el cliente incumpla con los pagos, por lo que las compañías financieras cobran tasas de interés más altas por esos préstamos."
   ]
  },
  {
   "cell_type": "code",
   "execution_count": 10,
   "metadata": {},
   "outputs": [
    {
     "data": {
      "text/plain": [
       "0    0\n",
       "1    1\n",
       "2    2\n",
       "3    3\n",
       "4    4\n",
       "Name: customer_id, dtype: int64"
      ]
     },
     "execution_count": 10,
     "metadata": {},
     "output_type": "execute_result"
    }
   ],
   "source": [
    "# Para terminar,  miremos a una variable que es numérica \n",
    "# pero cuyos valores no tienen un significado real, se usan más como identificadores\n",
    "\n",
    "data['customer_id'].head()"
   ]
  },
  {
   "cell_type": "markdown",
   "metadata": {},
   "source": [
    "Cada id representa un cliente. Este número es asignado para identificar\n",
    "el cliente si se necesita, al mismo tiempo, que se asegura confidencialidad y protección de los datos. "
   ]
  },
  {
   "cell_type": "code",
   "execution_count": 11,
   "metadata": {},
   "outputs": [
    {
     "data": {
      "text/plain": [
       "10000"
      ]
     },
     "execution_count": 11,
     "metadata": {},
     "output_type": "execute_result"
    }
   ],
   "source": [
    "# La variable tiene tantos valores distintos (ids) como clientes\n",
    "# en este caso 10,000, \n",
    "\n",
    "# recuerda que solamente cargamos 10,000 filas/clientes del total de los datos\n",
    "# del conjunto de datos inicial.\n",
    "\n",
    "len(data['customer_id'].unique())"
   ]
  },
  {
   "cell_type": "markdown",
   "metadata": {
    "collapsed": true
   },
   "source": [
    "\n",
    "**Esto es todo por este demo, esperamos lo hayan disfrutado y nos vemos en el siguiente. **"
   ]
  }
 ],
 "metadata": {
  "kernelspec": {
   "display_name": "feml",
   "language": "python",
   "name": "feml"
  },
  "language_info": {
   "codemirror_mode": {
    "name": "ipython",
    "version": 3
   },
   "file_extension": ".py",
   "mimetype": "text/x-python",
   "name": "python",
   "nbconvert_exporter": "python",
   "pygments_lexer": "ipython3",
   "version": "3.8.2"
  },
  "toc": {
   "base_numbering": 1,
   "nav_menu": {},
   "number_sections": true,
   "sideBar": true,
   "skip_h1_title": false,
   "title_cell": "Table of Contents",
   "title_sidebar": "Contents",
   "toc_cell": false,
   "toc_position": {},
   "toc_section_display": "block",
   "toc_window_display": true
  }
 },
 "nbformat": 4,
 "nbformat_minor": 1
}
